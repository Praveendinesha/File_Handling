{
  "nbformat": 4,
  "nbformat_minor": 0,
  "metadata": {
    "colab": {
      "provenance": []
    },
    "kernelspec": {
      "name": "python3",
      "display_name": "Python 3"
    },
    "language_info": {
      "name": "python"
    }
  },
  "cells": [
    {
      "cell_type": "markdown",
      "source": [
        "## **FILE HANDLING**"
      ],
      "metadata": {
        "id": "bXpa---9B0j_"
      }
    },
    {
      "cell_type": "code",
      "source": [
        "# Create file via python, read, write(overwrite), write(append)\n",
        "# mode x\n",
        "# mode w\n",
        "# mode a\n",
        "# mode r"
      ],
      "metadata": {
        "id": "ajwwb8wBh4O9"
      },
      "execution_count": 1,
      "outputs": []
    },
    {
      "cell_type": "code",
      "source": [
        "mohan=open(\"test.txt\",\"x\") #mode x - means to create a new file in a name of \"test.txt\""
      ],
      "metadata": {
        "id": "I1hRD9FfpO2L"
      },
      "execution_count": 2,
      "outputs": []
    },
    {
      "cell_type": "code",
      "source": [
        "mohan=open(\"test.txt\",\"w\") #mode w - means overwrites the file. If the file doesnt exist it will create. If exists it wil overwrites the existed one.\n",
        "mohan.write('HI PRAVEEN, HOW U DOING')\n",
        "mohan.close()              #should close() the file once after used.\n",
        "\n",
        "'''Closing files after you've finished using them is one way to prevent resource leakage.\n",
        "Resource leakage means when we open a file, the program will allocate resources like memory, file connections.\n",
        "When we failed to close the file, the resources are not been given back properly. It is reffered as leakage.\n",
        ""
      ],
      "metadata": {
        "id": "4AHezNiYpO5G"
      },
      "execution_count": 3,
      "outputs": []
    },
    {
      "cell_type": "code",
      "source": [
        "mohan=open(\"test.txt\",\"w\")    #mode-write\n",
        "for i in range(5):\n",
        "  print('Enter The Name Of The Person')\n",
        "  Name = input()\n",
        "  mohan.write(Name)\n",
        "mohan.close()\n"
      ],
      "metadata": {
        "colab": {
          "base_uri": "https://localhost:8080/"
        },
        "id": "Tk3h1sdLpO8I",
        "outputId": "0aaf24db-9999-4649-8cba-b18b5a1a1341"
      },
      "execution_count": 4,
      "outputs": [
        {
          "name": "stdout",
          "output_type": "stream",
          "text": [
            "Enter The Name Of The Person\n",
            "Praveen\n",
            "Enter The Name Of The Person\n",
            "Dinesh\n",
            "Enter The Name Of The Person\n",
            "Madhan\n",
            "Enter The Name Of The Person\n",
            "Harish\n",
            "Enter The Name Of The Person\n",
            "Dina\n"
          ]
        }
      ]
    },
    {
      "cell_type": "code",
      "source": [
        "mohan=open(\"test.txt\",\"a\")    #mode-a - append => to add the desirable data with the existing data\n",
        "for i in range(2):\n",
        "  print('Enter The Name Of The Person')\n",
        "  Name = input()\n",
        "  mohan.write(Name)\n",
        "mohan.close()"
      ],
      "metadata": {
        "id": "YwppMLFHzG7U",
        "colab": {
          "base_uri": "https://localhost:8080/"
        },
        "outputId": "f88bd6e2-aef2-4d47-efd6-1e3b1e002c8e"
      },
      "execution_count": 5,
      "outputs": [
        {
          "name": "stdout",
          "output_type": "stream",
          "text": [
            "Enter The Name Of The Person\n",
            "Alex\n",
            "Enter The Name Of The Person\n",
            "Harry\n"
          ]
        }
      ]
    },
    {
      "cell_type": "code",
      "source": [
        "mohan=open(\"test.txt\",\"a\")    #mode-a - append => to add the desirable data with the existing data\n",
        "for i in range(5):\n",
        "  print('Enter The Name Of The Person')\n",
        "  Name = '\\n'+input()         # \\n + input() to inputting the data in a new line.\n",
        "  mohan.write(Name)\n",
        "mohan.close()"
      ],
      "metadata": {
        "id": "0qNuLEHwpO-Y",
        "colab": {
          "base_uri": "https://localhost:8080/"
        },
        "outputId": "7ee9b0af-9a3c-46e9-a256-29624005fbbc"
      },
      "execution_count": 6,
      "outputs": [
        {
          "name": "stdout",
          "output_type": "stream",
          "text": [
            "Enter The Name Of The Person\n",
            "George\n",
            "Enter The Name Of The Person\n",
            "Harold\n",
            "Enter The Name Of The Person\n",
            "Das\n",
            "Enter The Name Of The Person\n",
            "Rolex\n",
            "Enter The Name Of The Person\n",
            "Dilli\n"
          ]
        }
      ]
    },
    {
      "cell_type": "code",
      "source": [
        "mohan= open('test.txt','r')   #mode r- read => to read the data from the given file but only once.\n",
        "print(mohan.read())\n"
      ],
      "metadata": {
        "id": "k1E4dARCpPA-",
        "colab": {
          "base_uri": "https://localhost:8080/"
        },
        "outputId": "4bc0f99d-5559-48f0-cc3b-a6581d0ced3f"
      },
      "execution_count": 7,
      "outputs": [
        {
          "output_type": "stream",
          "name": "stdout",
          "text": [
            "PraveenDineshMadhanHarishDinaAlexHarry\n",
            "George\n",
            "Harold\n",
            "Das\n",
            "Rolex\n",
            "Dilli\n"
          ]
        }
      ]
    }
  ]
}